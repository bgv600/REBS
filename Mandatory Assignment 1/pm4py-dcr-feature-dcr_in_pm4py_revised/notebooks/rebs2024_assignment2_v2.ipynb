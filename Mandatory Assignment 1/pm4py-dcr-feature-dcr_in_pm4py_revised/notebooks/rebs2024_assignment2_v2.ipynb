{
 "cells": [
  {
   "cell_type": "code",
   "execution_count": 1,
   "metadata": {},
   "outputs": [
    {
     "name": "stdout",
     "output_type": "stream",
     "text": [
      "/workspaces/REBS/Mandatory Assignment 1/pm4py-dcr-feature-dcr_in_pm4py_revised/notebooks\n",
      "/workspaces/REBS/Mandatory Assignment 1/pm4py-dcr-feature-dcr_in_pm4py_revised\n"
     ]
    }
   ],
   "source": [
    "%load_ext autoreload\n",
    "%autoreload 2\n",
    "import os\n",
    "print(os.getcwd())\n",
    "to_run = True\n",
    "if to_run:\n",
    "    os.chdir('..')\n",
    "    to_run = False\n",
    "print(os.getcwd())"
   ]
  },
  {
   "cell_type": "markdown",
   "metadata": {},
   "source": [
    "# Option 1 & 2: example input"
   ]
  },
  {
   "cell_type": "code",
   "execution_count": 2,
   "metadata": {},
   "outputs": [
    {
     "name": "stderr",
     "output_type": "stream",
     "text": [
      "Warning: C -> C: tail is inside head cluster cluster_N2\n"
     ]
    },
    {
     "data": {
      "image/png": "[encoded data removed]",
      "text/plain": [
       "<IPython.core.display.Image object>"
      ]
     },
     "metadata": {},
     "output_type": "display_data"
    }
   ],
   "source": [
    "import pandas as pd\n",
    "import pm4py\n",
    "\n",
    "from pm4py.objects.dcr.hierarchical.obj import HierarchicalDcrGraph\n",
    "graph = HierarchicalDcrGraph()\n",
    "\n",
    "events = [\n",
    "    \"A\", \"B\", \"C\", \"D\", \"E\", \"F\"\n",
    "]\n",
    "\n",
    "groups = [    \n",
    "    \"N1\", \"N2\", \"N3\"\n",
    "]\n",
    "\n",
    "for event in events:\n",
    "    graph.events.add(event)\n",
    "    graph.labels.add(event)\n",
    "    graph.label_map[event] = event\n",
    "    graph.marking.included.add(event)\n",
    "\n",
    "\n",
    "for event in groups:\n",
    "    graph.events.add(event)\n",
    "    graph.labels.add(event)\n",
    "    graph.label_map[event] = event\n",
    "    #graph.nestedgroups_map[event] = event\n",
    "\n",
    "graph.nestedgroups[\"N1\"] =  {\"B\", \"N2\"} \n",
    "graph.nestedgroups[\"N2\"] =  {\"C\", \"D\"} \n",
    "graph.nestedgroups[\"N3\"] =  {\"E\", \"F\"} \n",
    "\n",
    "for group, events in graph.nestedgroups.items():\n",
    "    for e in events:\n",
    "        graph.nestedgroups_map[e] = group\n",
    "\n",
    "graph.marking.included.remove(\"B\")\n",
    "graph.marking.pending.add(\"D\")\n",
    "\n",
    "\n",
    "graph.conditions[\"N1\"] = {\"A\"}\n",
    "graph.conditions[\"N3\"] = {\"N1\"}\n",
    "\n",
    "graph.responses[\"N2\"] = {\"N3\"}\n",
    "\n",
    "graph.includes[\"N3\"] = {\"B\"}\n",
    "\n",
    "graph.excludes[\"C\"] = {\"N2\"}\n",
    "\n",
    "pm4py.view_dcr(graph)"
   ]
  },
  {
   "cell_type": "markdown",
   "metadata": {},
   "source": [
    "# Option 1 example output"
   ]
  },
  {
   "cell_type": "code",
   "execution_count": 3,
   "metadata": {},
   "outputs": [
    {
     "data": {
      "text/plain": [
       "7"
      ]
     },
     "execution_count": 3,
     "metadata": {},
     "output_type": "execute_result"
    }
   ],
   "source": [
    "import pandas as pd\n",
    "from io import StringIO\n",
    "import pm4py\n",
    "from pm4py.objects.dcr.semantics import DcrSemantics    # Should be HierarchicalDcrSemantics instead!\n",
    "\n",
    "semantics = DcrSemantics()\n",
    "\n",
    "errors = 0\n",
    "\n",
    "expected_enabled = [\"A\"]\n",
    "for e in events:\n",
    "    if e in expected_enabled:\n",
    "            if not semantics.is_enabled(e, graph):\n",
    "                errors+=1 #raise Exception(\"Event should be enabled\")\n",
    "    if not (e in expected_enabled):\n",
    "        if semantics.is_enabled(e, graph):\n",
    "                errors+=1 #raise Exception(\"Event should NOT be enabled\")\n",
    "if semantics.is_accepting(graph):\n",
    "        errors+=1 #raise Exception(\"Graph should NOT be accepting\")        \n",
    "\n",
    "\n",
    "semantics.execute(graph, \"A\")\n",
    "expected_enabled = [\"A\", \"C\", \"D\"]\n",
    "for e in events:\n",
    "    if e in expected_enabled:\n",
    "            if not semantics.is_enabled(e, graph):\n",
    "                errors+=1 #raise Exception(\"Event should be enabled\")\n",
    "    if not (e in expected_enabled):\n",
    "        if semantics.is_enabled(e, graph):\n",
    "                errors+=1 #raise Exception(\"Event should NOT be enabled\")\n",
    "if semantics.is_accepting(graph):\n",
    "        errors+=1 #raise Exception(\"Graph should NOT be accepting\")                \n",
    "\n",
    "semantics.execute(graph, \"C\")\n",
    "expected_enabled = [\"A\", \"E\", \"F\"]\n",
    "for e in events:\n",
    "    if e in expected_enabled:\n",
    "            if not semantics.is_enabled(e, graph):\n",
    "                errors+=1 #raise Exception(\"Event should be enabled\")\n",
    "    if not (e in expected_enabled):\n",
    "        if semantics.is_enabled(e, graph):\n",
    "                errors+=1 #raise Exception(\"Event should NOT be enabled\")\n",
    "if semantics.is_accepting(graph):\n",
    "        errors+=1 #raise Exception(\"Graph should NOT be accepting\")                \n",
    "\n",
    "semantics.execute(graph, \"E\")\n",
    "expected_enabled = [\"A\", \"B\"]\n",
    "for e in events:\n",
    "    if e in expected_enabled:\n",
    "            if not semantics.is_enabled(e, graph):\n",
    "                errors+=1 #raise Exception(\"Event should be enabled\")\n",
    "    if not (e in expected_enabled):\n",
    "        if semantics.is_enabled(e, graph):\n",
    "                errors+=1 #raise Exception(\"Event should NOT be enabled\")\n",
    "if semantics.is_accepting(graph):\n",
    "        errors+=1 #raise Exception(\"Graph should NOT be accepting\")          \n",
    "\n",
    "semantics.execute(graph, \"B\")\n",
    "expected_enabled = [\"A\", \"B\", \"E\", \"F\"]\n",
    "for e in events:\n",
    "    if e in expected_enabled:\n",
    "            if not semantics.is_enabled(e, graph):\n",
    "                errors+=1 #raise Exception(\"Event should be enabled\")\n",
    "    if not (e in expected_enabled):\n",
    "        if semantics.is_enabled(e, graph):\n",
    "                errors+=1 #raise Exception(\"Event should NOT be enabled\")\n",
    "if semantics.is_accepting(graph):\n",
    "        errors+=1 #raise Exception(\"Graph should NOT be accepting\")                \n",
    "\n",
    "semantics.execute(graph, \"F\")\n",
    "expected_enabled = [\"A\", \"B\", \"E\", \"F\"]\n",
    "for e in events:\n",
    "    if e in expected_enabled:\n",
    "            if not semantics.is_enabled(e, graph):\n",
    "                errors+=1 #raise Exception(\"Event should be enabled\")\n",
    "    if not (e in expected_enabled):\n",
    "        if semantics.is_enabled(e, graph):\n",
    "                errors+=1 #raise Exception(\"Event should NOT be enabled\")\n",
    "if not semantics.is_accepting(graph):\n",
    "        errors+=1 #raise Exception(\"Graph should be accepting\")                        \n",
    "\n",
    "\n",
    "\n",
    "errors # This should be 0\n",
    "\n"
   ]
  },
  {
   "cell_type": "markdown",
   "metadata": {},
   "source": [
    "# Option 2: example output\n",
    "\n",
    "Note: your visualization doesn't need to match this exactly and it does not need to produce the same layout, but the hiearchical structure should be clearly the same.\n",
    "\n",
    "![DCR (26).png](<attachment:DCR (26).png>)"
   ]
  },
  {
   "cell_type": "markdown",
   "metadata": {},
   "source": [
    "# Option 3a details\n",
    "For option 3 you will need to create a new folder under https://github.com/paul-cvp/pm4py-dcr/tree/feature/dcr_in_pm4py_revised/pm4py/objects/dcr\n",
    "Here you will add 1) a class defining the object structure for DCR Graphs with multi-instance subprocesses, and 2) a class defining their semantics.\n",
    "You can take some inspiration from option 1 above on how to structure and test this. \n",
    "For defining subprocess templates you likely want to use a structure similar to the HierarchicalDcrGraph class, but keep in mind that there's an important difference between evetns that are part of a sub-process template (which are \"abstract\"), and real instantiated events. You also want to add the spawn relation.\n",
    "When implementing the semantics, keep in mind that events are no longer static, but can be spawned. You want to decide on how to name and structure spawned events. For example, you may simply give them a random new name (but keeping the correct label) and treat them as regular events after they have been spawned. Alternatively you could keep track of what subprocess they were spawned under, for example through a naming schema, or through additional data structures. (The latter solution I personally find neater, but it is not strictly required by the formal definitions.)\n",
    "For testing the semantics, consider using some basic examples, such as:\n",
    "\n",
    "Example 1:\n",
    "Graph: Event A spawns a subprocess P, containing an event B that excludes itself.\n",
    "Expected semantics: any number of As, possibility to execute exactly one B for each A.\n",
    "\n",
    "Example 2:\n",
    "Graph: Event A spawns a subprocess P, containing an event B that is initially pending excludes itself.\n",
    "Expected semantics: any number of As, requirement to execute exactly one B for each A.\n",
    "\n",
    "Example 3:\n",
    "Graph: Event A spawns a subprocess P, containing an event B that is initially pending.\n",
    "Expected semantics: any number of As, requirement to execute at least one B for each A. (Depending somewhat on which Bs are executed, i.e. each spawned B needs to be executed at least once.)\n",
    "\n",
    "Example 4:\n",
    "Graph: Event A spawns a subprocess P, containing an event B and C that each exclude themselves. Event B is a condition for C.\n",
    "Expected semantics: any number of As, for each A it is possible to execute the sequence \"B, C\" (potentially interupted by others Bs and Cs)\n",
    "\n",
    "Example 5:\n",
    "Graph: Event A spawns a subprocess P, containing an event B and C that each exclude themselves. Event B is a condition for C. A excludes itself. Each spawned C includes A.\n",
    "Expected semantics: The sequence ABC repeated any number of times, without a requirement to finish the final sequence by ending on a C.\n",
    "\n",
    "Example 6:\n",
    "Graph: Event A spawns a subprocess P, containing an event B and C that each exclude themselves. Event B is a condition for C. A excludes itself. Each spawned C includes A. C is initially pending.\n",
    "Expected semantics: The sequence ABC repeated any number of times, once we start a sequence we must finish it.\n",
    "\n",
    "Example 7:\n",
    "Graph: Event A spawns a subprocess P, containing an event B and C that each exclude themselves. Event C is initially excluded. Event B includes C. Each spawned C is a condition for A. B and C are pending.\n",
    "Expected semantics: For each A we see exactly one B and C. Once we see a B, we must see the corresponding C before we can see A again. \n",
    "Examples of traces that satisfy this pattern:\n",
    "ABC\n",
    "AAABCABCBCBC\n",
    "AAABBCBCCABC\n",
    "Examples of traces that do not satisfy this pattern:\n",
    "A\n",
    "AB\n",
    "ABACBC\n",
    "ABBCACBC\n",
    "\n",
    "\n",
    "\n",
    "\n",
    "\n"
   ]
  }
 ],
 "metadata": {
  "kernelspec": {
   "display_name": "Python 3",
   "language": "python",
   "name": "python3"
  },
  "language_info": {
   "codemirror_mode": {
    "name": "ipython",
    "version": 3
   },
   "file_extension": ".py",
   "mimetype": "text/x-python",
   "name": "python",
   "nbconvert_exporter": "python",
   "pygments_lexer": "ipython3",
   "version": "3.12.1"
  }
 },
 "nbformat": 4,
 "nbformat_minor": 2
}
